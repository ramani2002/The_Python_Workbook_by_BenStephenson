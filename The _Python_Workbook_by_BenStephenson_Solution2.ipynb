{
 "cells": [
  {
   "cell_type": "code",
   "execution_count": null,
   "metadata": {},
   "outputs": [],
   "source": [
    "# 89. CAPITALIZE IT\n",
    "\n",
    "# Many people do not use capital letters correctly, especially when typing on small\n",
    "# devices like smart phones. In this exercise, you will write a function that capitalizes\n",
    "# the appropriate characters in a string. A lowercase “i” should be replaced with an\n",
    "# uppercase “I” if it is both preceded and followed by a space. The first character in\n",
    "# the string should also be capitalized, as well as the first non-space character after a\n",
    "# “.”, “!” or “?”. For example, if the function is provided with the string “what time\n",
    "# do i have to be there? what’s the address?” then it should return the string “What\n",
    "# time do I have to be there? What’s the address?”. Include a main program that reads\n",
    "# a string from the user, capitalizes it using your function, and displays the result.\n",
    "\n",
    "strng = input(\"Input your string: \")\n",
    "\n",
    "def cap(strng):\n",
    "    "
   ]
  },
  {
   "cell_type": "code",
   "execution_count": null,
   "metadata": {},
   "outputs": [],
   "source": [
    "# 90. DOES A STRING REPRESENT AN INTEGER?\n",
    "\n",
    "# In this exercise you will write a function named isInteger that determines\n",
    "# whether or not the characters in a string represent a valid integer. When determining\n",
    "# if a string represents an integer you should ignore any leading or trailing white space.\n",
    "# Once this white space is ignored, a string represents an integer if its length is at least\n",
    "# 1 and it only contains digits, or if its first character is either + or - and the first\n",
    "# character is followed by one or more characters, all of which are digits.\n",
    "# Write a main program that reads a string from the user and reports whether or\n",
    "# not it represents an integer. Ensure that the main program will not run if the file\n",
    "# containing your solution is imported into another program.\n",
    "\n",
    "# Hint: You may find the lstrip, rstrip and/or strip methods for strings\n",
    "# helpful when completing this exercise. Documentation for these methods is available online."
   ]
  },
  {
   "cell_type": "code",
   "execution_count": null,
   "metadata": {},
   "outputs": [],
   "source": [
    "# 91. OPERATOR PRECEDENCE\n",
    "\n",
    "# Write a function named precedence that returns an integer representing the precedence\n",
    "# of a mathematical operator. A string containing the operator will be passed to\n",
    "# the function as its only parameter. Your function should return 1 for + and -, 2 for *\n",
    "# and /, and 3 for ˆ. If the string passed to the function is not one of these operators\n",
    "# then the function should return -1. Include a main program that reads an operator\n",
    "# from the user and either displays the operator’s precedence or an error message indicating\n",
    "# that the input was not an operator. Your main program should only run when\n",
    "# the file containing your solution has not been imported into another program.\n",
    "# In this exercise, along with others that appear later in the book, we will use ˆ to\n",
    "# represent exponentiation. Using ˆ instead of Python’s choice of ** will make\n",
    "# these exercises easier because an operator will always be a single character.\n",
    "\n",
    "opprecedence = {'+':'1', '-':'1','*':'2','/':'2','^':'3'}\n",
    "op = input(\"Enter the operator of your choice: \")\n",
    "\n",
    "for x in op:\n",
    "    if x in opprecedence.keys():\n",
    "        print(opprecedence[x])\n",
    "    else:\n",
    "        print(\"Noooooo!\")\n",
    "        \n"
   ]
  },
  {
   "cell_type": "code",
   "execution_count": 8,
   "metadata": {},
   "outputs": [
    {
     "name": "stdout",
     "output_type": "stream",
     "text": [
      "Enter an integer: 17\n",
      "17 is not a prime number\n"
     ]
    }
   ],
   "source": [
    "## 93. NEXT PRIME\n",
    "\n",
    "# In this exercise you will create a function named nextPrime that finds and returns\n",
    "# the first prime number larger than some integer, n. The value of n will be passed to\n",
    "# the function as its only parameter. Include a main program that reads an integer from\n",
    "# the user and displays the first prime number larger than the entered value. Import\n",
    "# and use your solution to Exercise 92 while completing this exercise.\n",
    "\n",
    "import math\n",
    "\n",
    "n = int(input(\"Enter an integer: \"))\n",
    "p = int(math.sqrt(n))\n",
    "# print(p)\n",
    "\n",
    "primelist = []\n",
    "num = 1\n",
    "while num <= p:\n",
    "    if n%num == 0:\n",
    "        primelist.append(num)\n",
    "    num += 1\n",
    "print(n , \"is not a prime number\")"
   ]
  },
  {
   "cell_type": "code",
   "execution_count": null,
   "metadata": {},
   "outputs": [],
   "source": [
    "# 94. RANDOM PASSWORD\n",
    "\n",
    "# Write a function that generates a random password. The password should have a\n",
    "# random length of between 7 and 10 characters. Each character should be randomly\n",
    "# selected from positions 33 to 126 in the ASCII table. Your function will not take\n",
    "# any parameters. It will return the randomly generated password as its only result.\n",
    "# Display the randomly generated password in your file’s main program. Your main\n",
    "# program should only run when your solution has not been imported into another file.\n",
    "\n",
    "# Hint: You will probably find the chr function helpful when completing this\n",
    "# exercise. Detailed information about this function is available online.\n",
    "\n",
    "import random\n",
    "import string"
   ]
  },
  {
   "cell_type": "code",
   "execution_count": 81,
   "metadata": {},
   "outputs": [],
   "source": [
    "import random\n",
    "import string\n",
    "\n",
    "def random_string():\n",
    "    randomstring0 = ''.join([chr(i) for i in range(128)])\n",
    "    randomstring = randomstring0[33:127]\n",
    "#     s = ''.join([chr(i) for i in randomstring])\n",
    "    s0 = random.sample(randomstring, 7)\n",
    "    s = ''.join(s0)\n",
    "#     s.replace(\"'\",\" \")\n",
    "    return s.replace(\"'\",\"\")\n",
    "\n",
    "def main():\n",
    "    return random_string()\n",
    "\n",
    "### HOW CAN I USE CHR() TO DO THE SAME THING AS ABOVE?"
   ]
  },
  {
   "cell_type": "code",
   "execution_count": 5,
   "metadata": {},
   "outputs": [
    {
     "name": "stdout",
     "output_type": "stream",
     "text": [
      "['R', 't', 'y', '5', 'v', 'b', '3', '*']\n",
      "Your password is not correct. Please re-enter.\n"
     ]
    }
   ],
   "source": [
    "# 95. CHECK A PASSWORD\n",
    "\n",
    "# In this exercise you will write a function that determines whether or not a password\n",
    "# is good. We will define a good password to be a one that is at least 8 characters\n",
    "# long and contains at least one uppercase letter, at least one lowercase letter, and at\n",
    "# least one number. Your function should return true if the password passed to it as\n",
    "# its only parameter is good. Otherwise it should return false. Include a main program\n",
    "# that reads a password from the user and reports whether or not it is good. Ensure\n",
    "# that your main program only runs when your solution has not been imported into\n",
    "# another file.\n",
    "\n",
    "# First generate an 8 character long password - use #94 and\n",
    "# Perform password check\n",
    "import random\n",
    "import string\n",
    "pwdlist = []\n",
    "\n",
    "# pwd = input(\"Enter your eight character long password\")\n",
    "Userpwd = 'Rty5vb3'\n",
    "for element in Userpwd:\n",
    "    pwdlist.append(element)\n",
    "print(pwdlist)\n",
    "\n",
    "for k1 in ['!', '@', '#', '$', '%', '^', '&', '*', '(', ')']:\n",
    "    if k1 in pwdlist:\n",
    "        print(\"Your password is not correct. Please re-enter.\")\n",
    "        \n",
    "\n",
    "\n",
    "# def main():\n",
    "#     return random_string()"
   ]
  },
  {
   "cell_type": "code",
   "execution_count": 13,
   "metadata": {},
   "outputs": [
    {
     "name": "stdout",
     "output_type": "stream",
     "text": [
      "Your password is incorrect, Please re-enter\n",
      "Your password is incorrect, Please re-enter\n",
      "Your password is incorrect, Please re-enter\n",
      "Your password is incorrect, Please re-enter\n",
      "Your password is incorrect, Please re-enter\n",
      "Your password is incorrect, Please re-enter\n",
      "Your password is incorrect, Please re-enter\n",
      "Your password is incorrect, Please re-enter\n",
      "Your password is incorrect, Please re-enter\n",
      "Your password is incorrect, Please re-enter\n",
      "Your password is incorrect, Please re-enter\n",
      "Your password is incorrect, Please re-enter\n"
     ]
    }
   ],
   "source": [
    "letters = 'asdfHRbySFss'\n",
    "for elmt in letters:\n",
    "    if elmt.isupper() == True and elmt.islower() == True and elmt.isdigit() == True:\n",
    "        print(\"Number and Capitals Check is OK\")\n",
    "    else:\n",
    "        print(\"Your password is incorrect, Please re-enter\")"
   ]
  },
  {
   "cell_type": "code",
   "execution_count": null,
   "metadata": {},
   "outputs": [],
   "source": []
  },
  {
   "cell_type": "code",
   "execution_count": null,
   "metadata": {},
   "outputs": [],
   "source": []
  }
 ],
 "metadata": {
  "kernelspec": {
   "display_name": "Python 3",
   "language": "python",
   "name": "python3"
  },
  "language_info": {
   "codemirror_mode": {
    "name": "ipython",
    "version": 3
   },
   "file_extension": ".py",
   "mimetype": "text/x-python",
   "name": "python",
   "nbconvert_exporter": "python",
   "pygments_lexer": "ipython3",
   "version": "3.7.3"
  }
 },
 "nbformat": 4,
 "nbformat_minor": 2
}
